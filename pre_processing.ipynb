{
 "cells": [
  {
   "cell_type": "markdown",
   "metadata": {},
   "source": [
    " # Import data from csv files\n"
   ]
  },
  {
   "cell_type": "code",
   "execution_count": 1,
   "metadata": {},
   "outputs": [
    {
     "name": "stdout",
     "output_type": "stream",
     "text": [
      "1800 3600\n"
     ]
    }
   ],
   "source": [
    "import numpy as np\n",
    "import csv\n",
    "import sys\n",
    "from math import *\n",
    "\n",
    "# import speed data\n",
    "list_points_speed = []\n",
    "with open('10-speed.csv','r') as f:\n",
    "    lines = f.readlines()\n",
    "    for i in range(len(lines)):\n",
    "        points = ''.join(lines[i]).split(\",\")\n",
    "        list_points_speed.append( [ float(points[j].replace('\\x00', '')) for j in range(len(points)) ])\n",
    "a = len(list_points_speed)\n",
    "b = len(list_points_speed[0])\n",
    "print(a,b)"
   ]
  },
  {
   "cell_type": "code",
   "execution_count": 2,
   "metadata": {
    "scrolled": true
   },
   "outputs": [
    {
     "name": "stdout",
     "output_type": "stream",
     "text": [
      "Succes\n"
     ]
    }
   ],
   "source": [
    "# import probability data\n",
    "list_points_proba = []\n",
    "with open('10-probability.csv','r') as f:\n",
    "    lines = f.readlines()\n",
    "    for i in range(len(lines)):\n",
    "        points = ''.join(lines[i]).split(\",\")\n",
    "        list_points_proba.append( [ float(points[j].replace('\\x00', '')) for j in range(len(points)) ])\n",
    "print(\"Succes\")"
   ]
  },
  {
   "cell_type": "code",
   "execution_count": 3,
   "metadata": {},
   "outputs": [
    {
     "name": "stdout",
     "output_type": "stream",
     "text": [
      "Succes\n"
     ]
    }
   ],
   "source": [
    "# generation of Neo4j nodes.\n",
    "# indentify all no-empty cells\n",
    "id_point = -1\n",
    "\n",
    "#stock the id\n",
    "ids_table = [[-1 for j in range(b)] for i in range(a)] \n",
    "ids_table2 = [[-1 for j in range(b)] for i in range(a)]\n",
    "\n",
    "with open(\"tmp/new_points_10.txt\", \"a\") as out1:\n",
    "    for i in range(a):\n",
    "        for j in range(b):\n",
    "            id_point += 1\n",
    "            ids_table2[i][j] = id_point\n",
    "            out1.write(\"%d,%f,%f \\n\" %(id_point,-180+0.1*j,90-0.1*i))\n",
    "            if(list_points_proba[i][j] != 0):\n",
    "                ids_table[i][j] = 1\n",
    "print(\"Succes\")"
   ]
  },
  {
   "cell_type": "code",
   "execution_count": 4,
   "metadata": {},
   "outputs": [
    {
     "name": "stdout",
     "output_type": "stream",
     "text": [
      "1800 3600\n"
     ]
    }
   ],
   "source": [
    "speed_max = max(max(list_points_speed))\n",
    "print(len(ids_table),len(ids_table[0]))"
   ]
  },
  {
   "cell_type": "code",
   "execution_count": 16,
   "metadata": {},
   "outputs": [
    {
     "data": {
      "text/plain": [
       "20000"
      ]
     },
     "execution_count": 16,
     "metadata": {},
     "output_type": "execute_result"
    }
   ],
   "source": [
    "distance_geo(ids_table,900,901,0,1)"
   ]
  },
  {
   "cell_type": "code",
   "execution_count": 15,
   "metadata": {},
   "outputs": [],
   "source": [
    "# function calculating the geographical distance between given points\n",
    "def distance_geo(ids_table,i1,i2,j1,j2):\n",
    "    if( ids_table[i1][j1]==-1 or ids_table[i2][j2]==-1 ):\n",
    "        return 20000\n",
    "    else:\n",
    "        lat1 = (90-0.1*i1)*pi/180\n",
    "        lat2 = (90-0.1*i2)*pi/180\n",
    "        lon1 = (180-0.1*j1)*pi/180\n",
    "        lon2 = (180-0.1*j2)*pi/180\n",
    "        d_lat = lat1 - lat2\n",
    "        d_lon = lon1 - lon2\n",
    "        a =  (sin(d_lat/2))**2 + cos(lat1) * cos(lat2) * ( sin(d_lon/2) )**2\n",
    "        return 2*atan2( sqrt(a), sqrt(1-a))*6400/15.7   ##to normalize the distance\n",
    "\n",
    "def distance_two_neighbourhood(tables, i1,j1,i2,j2, table_speed=list_points_speed, table_proba=list_points_proba,speed_max=speed_max):\n",
    "    if( tables[i1][j1]==-1 or tables[i2][j2]==-1 ):\n",
    "        return 20000\n",
    "    else: \n",
    "        factor_speed =  1 - ( table_speed[i1][j1] + table_speed[i2][j2] ) / (2*speed_max) \n",
    "        factor_proba =  1 - ( table_proba[i1][j1] + table_proba[i2][j2] ) / 2 \n",
    "        return distance_geo(ids_table, i1,i2,j1,j2) * factor_speed + factor_proba\n",
    "    "
   ]
  },
  {
   "cell_type": "code",
   "execution_count": 17,
   "metadata": {},
   "outputs": [
    {
     "name": "stdout",
     "output_type": "stream",
     "text": [
      "ok\n"
     ]
    }
   ],
   "source": [
    "# list of distances for each point\n",
    "list_points = ids_table\n",
    "list_distances = []\n",
    "\n",
    "for i in range(a):\n",
    "    list_distances.append([])\n",
    "    for j in range(b):\n",
    "        list_distances[i].append([])\n",
    "        if ( i==0 and j==0 ):\n",
    "            list_distances[i][j].extend([-1,\n",
    "                                         -1,\n",
    "                                         distance_two_neighbourhood(list_points,0,0,0,1),\n",
    "                                         distance_two_neighbourhood(list_points,0,0,1,1),\n",
    "                                         distance_two_neighbourhood(list_points,0,0,1,0),\n",
    "                                         -1,\n",
    "                                         -1,\n",
    "                                         -1])\n",
    "        \n",
    "        if ( i !=0 and i!=a-1 and j==0 ):\n",
    "            list_distances[i][j].extend([-1,\n",
    "                                         distance_two_neighbourhood(list_points,i,j,i-1,j+1),\n",
    "                                         distance_two_neighbourhood(list_points,i,j,i,  j+1),\n",
    "                                         distance_two_neighbourhood(list_points,i,j,i+1,j+1),\n",
    "                                         distance_two_neighbourhood(list_points,i,j,i+1,j),\n",
    "                                         -1,\n",
    "                                         -1,\n",
    "                                         -1])\n",
    "        if ( i==a-1 and j==0 ):\n",
    "            list_distances[i][j].extend([-1,\n",
    "                                         distance_two_neighbourhood(list_points,i,j,i-1,j+1),\n",
    "                                         distance_two_neighbourhood(list_points,i,j,i,  j+1),\n",
    "                                         -1,\n",
    "                                         -1,\n",
    "                                         -1,\n",
    "                                         -1,\n",
    "                                         -1])\n",
    "        if ( i==0 and j!=0 and j!=b-1 ):\n",
    "            list_distances[i][j].extend([-1,\n",
    "                                         -1,\n",
    "                                         distance_two_neighbourhood(list_points,i,j,i,  j+1),\n",
    "                                         distance_two_neighbourhood(list_points,i,j,i+1,j+1),\n",
    "                                         distance_two_neighbourhood(list_points,i,j,i+1,j),\n",
    "                                         -1,\n",
    "                                         -1,\n",
    "                                         -1])\n",
    "        if ( i==0 and j==b-1 ):\n",
    "            list_distances[i][j].extend([-1,\n",
    "                                         -1,\n",
    "                                         distance_two_neighbourhood(list_points,i,j,i,0),\n",
    "                                         distance_two_neighbourhood(list_points,i,j,i+1,0),\n",
    "                                         distance_two_neighbourhood(list_points,i,j,i+1,j),\n",
    "                                         -1,\n",
    "                                         -1,\n",
    "                                         -1])\n",
    "        if ( i!=0 and i!=a-1 and j!=0 and j!=b-1 ):\n",
    "            list_distances[i][j].extend([-1,\n",
    "                                         distance_two_neighbourhood(list_points,i,j,i-1,j+1),\n",
    "                                         distance_two_neighbourhood(list_points,i,j,i,  j+1),\n",
    "                                         distance_two_neighbourhood(list_points,i,j,i+1,j+1),\n",
    "                                         distance_two_neighbourhood(list_points,i,j,i+1,j),\n",
    "                                         -1,\n",
    "                                         -1,\n",
    "                                         -1])\n",
    "        if ( i!=0 and i!=a-1 and j==b-1):\n",
    "            list_distances[i][j].extend([-1,\n",
    "                                         distance_two_neighbourhood(list_points,i,j,i-1,0),\n",
    "                                         distance_two_neighbourhood(list_points,i,j,i,0),\n",
    "                                         distance_two_neighbourhood(list_points,i,j,i+1,0),\n",
    "                                         distance_two_neighbourhood(list_points,i,j,i+1,j),\n",
    "                                         -1,\n",
    "                                         -1,\n",
    "                                         -1])\n",
    "        if ( i==a-1 and j==b-1):\n",
    "            list_distances[i][j].extend([-1,\n",
    "                                         distance_two_neighbourhood(list_points,i,j,i-1,0),\n",
    "                                         distance_two_neighbourhood(list_points,i,j,i,0),\n",
    "                                         -1,\n",
    "                                         -1,\n",
    "                                         -1,\n",
    "                                         -1,\n",
    "                                         -1])\n",
    "        if ( i==a-1 and j!=0 and j!=b-1 ):\n",
    "            list_distances[i][j].extend([-1,\n",
    "                                         distance_two_neighbourhood(list_points,i,j,i-1,j+1),\n",
    "                                         distance_two_neighbourhood(list_points,i,j,i,  j+1),\n",
    "                                         -1,\n",
    "                                         -1,\n",
    "                                         -1,\n",
    "                                         -1,\n",
    "                                         -1])\n",
    "print(\"ok\")"
   ]
  },
  {
   "cell_type": "code",
   "execution_count": 19,
   "metadata": {
    "collapsed": true
   },
   "outputs": [],
   "source": [
    "# generation of Neo4j relations(arc)\n",
    "ids_table = ids_table2\n",
    "with open(\"tmp/new_relations_10.txt\", \"a\") as out2:\n",
    "    for i in range(a):\n",
    "        for j in range(b):\n",
    "            for k in range(8):\n",
    "                if ( list_distances[i][j][k]!=-1 and j==0 ):\n",
    "                    if k==1:\n",
    "                        out2.write(\"%d,%d,%f \\n\" %(ids_table[i][j],ids_table[i-1][j+1],list_distances[i][j][k]))\n",
    "                    if k==2:\n",
    "                        out2.write(\"%d,%d,%f \\n\" %(ids_table[i][j],ids_table[i][j+1],list_distances[i][j][k]))\n",
    "                    if k==3:\n",
    "                        out2.write(\"%d,%d,%f \\n\" %(ids_table[i][j],ids_table[i+1][j+1],list_distances[i][j][k]))\n",
    "                    if k==4:\n",
    "                        out2.write(\"%d,%d,%f \\n\" %(ids_table[i][j],ids_table[i+1][j],list_distances[i][j][k]))\n",
    "                \n",
    "                if ( list_distances[i][j][k]!=-1 and j==b-1 ):\n",
    "                    if k==1:\n",
    "                        out2.write(\"%d,%d,%f \\n\" %(ids_table[i][j],ids_table[i-1][0],list_distances[i][j][k]))\n",
    "                    if k==2:\n",
    "                        out2.write(\"%d,%d,%f \\n\" %(ids_table[i][j],ids_table[i][0],list_distances[i][j][k]))\n",
    "                    if k==3:\n",
    "                        out2.write(\"%d,%d,%f \\n\" %(ids_table[i][j],ids_table[i+1][0],list_distances[i][j][k]))\n",
    "                    if k==4:\n",
    "                        out2.write(\"%d,%d,%f \\n\" %(ids_table[i][j],ids_table[i+1][j],list_distances[i][j][k]))\n",
    "                if ( list_distances[i][j][k] != -1 and j!=0 and j!=b-1 ):\n",
    "                    if k==1:\n",
    "                        out2.write(\"%d,%d,%f \\n\" %(ids_table[i][j],ids_table[i-1][j+1],list_distances[i][j][k]))\n",
    "                    if k==2:\n",
    "                        out2.write(\"%d,%d,%f \\n\" %(ids_table[i][j],ids_table[i][j+1],list_distances[i][j][k]))\n",
    "                    if k==3:\n",
    "                        out2.write(\"%d,%d,%f \\n\" %(ids_table[i][j],ids_table[i+1][j+1],list_distances[i][j][k]))\n",
    "                    if k==4:\n",
    "                        out2.write(\"%d,%d,%f \\n\" %(ids_table[i][j],ids_table[i+1][j],list_distances[i][j][k]))"
   ]
  },
  {
   "cell_type": "code",
   "execution_count": 64,
   "metadata": {},
   "outputs": [
    {
     "data": {
      "text/plain": [
       "[-1,\n",
       " 2.7720897955867834,\n",
       " 2.3955918206871063,\n",
       " 2.6604539753286023,\n",
       " 2.5328542905664624,\n",
       " -1,\n",
       " -1,\n",
       " -1]"
      ]
     },
     "execution_count": 64,
     "metadata": {},
     "output_type": "execute_result"
    }
   ],
   "source": [
    "list_distances[428][3599]"
   ]
  }
 ],
 "metadata": {
  "kernelspec": {
   "display_name": "Python 2",
   "language": "python",
   "name": "python2"
  },
  "language_info": {
   "codemirror_mode": {
    "name": "ipython",
    "version": 2
   },
   "file_extension": ".py",
   "mimetype": "text/x-python",
   "name": "python",
   "nbconvert_exporter": "python",
   "pygments_lexer": "ipython2",
   "version": "2.7.12"
  }
 },
 "nbformat": 4,
 "nbformat_minor": 2
}
